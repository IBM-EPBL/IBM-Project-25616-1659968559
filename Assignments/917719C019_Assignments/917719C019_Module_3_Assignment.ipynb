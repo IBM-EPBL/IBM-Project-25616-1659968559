{
  "nbformat": 4,
  "nbformat_minor": 0,
  "metadata": {
    "colab": {
      "provenance": [],
      "collapsed_sections": []
    },
    "kernelspec": {
      "name": "python3",
      "display_name": "Python 3"
    },
    "language_info": {
      "name": "python"
    }
  },
  "cells": [
    {
      "cell_type": "code",
      "execution_count": 1,
      "metadata": {
        "colab": {
          "base_uri": "https://localhost:8080/"
        },
        "id": "WRN6yk9DX4fd",
        "outputId": "49143315-842f-46d4-abaf-3d1c01a99541"
      },
      "outputs": [
        {
          "output_type": "stream",
          "name": "stdout",
          "text": [
            "Creating a list called numbers:\n",
            "[3, 2, 1, 4, 5]\n",
            "inserting number 5 at index 3 :\n",
            " [3, 2, 1, 5, 4, 5]\n",
            "Deleting first occurence of 5 at index 3:\n",
            " [3, 2, 1, 4, 5]\n",
            "Append 6 at end of the list:\n",
            " [3, 2, 1, 4, 5, 6]\n",
            "After sorting the list:\n",
            " [1, 2, 3, 4, 5, 6]\n",
            "Popping the lost element from the list :\n",
            " [1, 2, 3, 4, 5]\n"
          ]
        }
      ],
      "source": [
        "#creating a list called numbers !\n",
        "print(\"Creating a list called numbers:\")\n",
        "numbers = [3,2,1,4,5]\n",
        "print(numbers)\n",
        "#insert element\"8\" at index 3\n",
        "numbers.insert(3,5)\n",
        "print(\"inserting number 5 at index 3 :\\n\",numbers)\n",
        "#delte first occurence of hte integer \n",
        "numbers.remove(5)\n",
        "print(\"Deleting first occurence of 5 at index 3:\\n\",numbers)\n",
        "#append at end of the list \n",
        "numbers.append(6)\n",
        "print(\"Append 6 at end of the list:\\n\",numbers)\n",
        "#sort the list \n",
        "numbers.sort()\n",
        "print(\"After sorting the list:\\n\",numbers)\n",
        "#pop the last element from the list \n",
        "numbers.pop()\n",
        "print(\"Popping the lost element from the list :\\n\",numbers)\n",
        "\n"
      ]
    },
    {
      "cell_type": "code",
      "source": [
        "#Calculator program in Python\n",
        "\n",
        "def display(oper, result):\n",
        "  print(\"\\n{0} {1} {2} = {3}\".format(numb1,oper,numb2,result))\n",
        "\n",
        "numb1=int(input(\"Enter the first number: \"))\n",
        "numb2=int(input(\"Enter the second number: \"))\n",
        "\n",
        "print(\"Choose operatoin :\\n 1. Add\\n 2. Subtract\\n 3. Multiply\\n 4. Divide\")\n",
        "operation=int(input(\"Choose a operation: \"))\n",
        "\n",
        "if operation==1:\n",
        "  display('+',numb1+numb2)\n",
        "elif operation==2:\n",
        "  display('-',numb1-numb2)\n",
        "elif operation==3:\n",
        "  display('*',numb1*numb2)\n",
        "elif operation==4:\n",
        "  display('/',numb1/numb2)\n",
        "else:\n",
        "  print(\"Invalid!!\")"
      ],
      "metadata": {
        "colab": {
          "base_uri": "https://localhost:8080/"
        },
        "id": "X4r1KpZyYtbQ",
        "outputId": "05942acf-b898-4746-b8f5-79f48e88c2a9"
      },
      "execution_count": 2,
      "outputs": [
        {
          "output_type": "stream",
          "name": "stdout",
          "text": [
            "Enter the first number: 10\n",
            "Enter the second number: 20\n",
            "Choose operatoin :\n",
            " 1. Add\n",
            " 2. Subtract\n",
            " 3. Multiply\n",
            " 4. Divide\n",
            "Choose a operation: 3\n",
            "\n",
            "10 * 20 = 200\n"
          ]
        }
      ]
    },
    {
      "cell_type": "code",
      "source": [
        "#Concatenate,Reverse & Slice a string \n",
        "string1=input(\"Enter the first string: \")\n",
        "string2=input(\"Enter the second string: \")\n",
        "\n",
        "concat = string1+string2\n",
        "print(\"Concatenated String is :\" + concat)\n",
        "print(\"Reversed String is : \" + concat[::-1])\n",
        "print(\"Slicing from beginning till index 6: \"+concat[0:7])"
      ],
      "metadata": {
        "colab": {
          "base_uri": "https://localhost:8080/"
        },
        "id": "Pr5lM81bYzzZ",
        "outputId": "307f0d08-8131-406c-f138-7d29ed4cd40c"
      },
      "execution_count": 3,
      "outputs": [
        {
          "output_type": "stream",
          "name": "stdout",
          "text": [
            "Enter the first string: apple\n",
            "Enter the second string: orange\n",
            "Concatenated String is :appleorange\n",
            "Reversed String is : egnaroelppa\n",
            "Slicing from beginning till index 6: appleor\n"
          ]
        }
      ]
    },
    {
      "cell_type": "markdown",
      "source": [
        "```\n",
        "Q. Why is Python a popular programming language?\n",
        "\n",
        "Since it has easier language similiar to the ones used in day to day life, it makes python easy to learn for beginners in rpgoramming \n",
        "It has large support system consisting of various Frameworks , packages and libarries\n",
        "It has open - source libraries which can be utilised in web applcation development to quickly develop .\n",
        "Moreover it is efficient and reliable and easier to use for developign projects. Hence it is widely used.\n",
        "\n",
        "Q. What are the other Frameworks that can be used with python?\n",
        "Django\n",
        "Flask\n",
        "Web2Py\n",
        "CherryPy\n",
        "Growler\n",
        "\n",
        " Full form of WSGI?\n",
        "WSGI - Web Server Gateway Interface\n",
        "It is a  calling convention used with web servers for forwarding requests to web applications.\n"
      ],
      "metadata": {
        "id": "NdoyCA5BZE9o"
      }
    }
  ]
}