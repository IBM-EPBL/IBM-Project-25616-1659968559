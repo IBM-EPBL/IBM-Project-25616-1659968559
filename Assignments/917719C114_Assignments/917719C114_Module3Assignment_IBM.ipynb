{
  "nbformat": 4,
  "nbformat_minor": 0,
  "metadata": {
    "colab": {
      "provenance": []
    },
    "kernelspec": {
      "name": "python3",
      "display_name": "Python 3"
    },
    "language_info": {
      "name": "python"
    }
  },
  "cells": [
    {
      "cell_type": "markdown",
      "source": [
        "```\n",
        "IBM Smart Internz\n",
        "Module 3 : Python Assignment\n",
        "Venkatesha Prabhu P - 917719C114\n",
        "```\n"
      ],
      "metadata": {
        "id": "TJf2uJKYNzFJ"
      }
    },
    {
      "cell_type": "code",
      "execution_count": null,
      "metadata": {
        "colab": {
          "base_uri": "https://localhost:8080/"
        },
        "id": "N03vCPVA72S3",
        "outputId": "1d5eeaa0-7b19-4d43-b11e-854d4861bf14"
      },
      "outputs": [
        {
          "output_type": "stream",
          "name": "stdout",
          "text": [
            "After Inserting 4 at Index 2 in List:\n",
            " [1, 4, 9, 9, 4, 1]\n",
            "After removing 1st occurence of 4 from List:\n",
            " [1, 9, 9, 4, 1]\n",
            "After appending 5 to List:\n",
            " [1, 9, 9, 4, 1, 5]\n",
            "After sorting List:\n",
            " [1, 1, 4, 5, 9, 9]\n",
            "After popping last element from List:\n",
            " [1, 1, 4, 5, 9]\n",
            "After reversing List:\n",
            " [9, 5, 4, 1, 1]\n"
          ]
        }
      ],
      "source": [
        "\"\"\"\n",
        "Perform the following commands on a list:\n",
        "Insert i e: Insert integer  at position .\n",
        "Print: Print the list.\n",
        "Remove e: Delete the first occurrence of integer .\n",
        "Append e: Insert integer  at the end of the list.\n",
        "Sort: Sort the list.\n",
        "Pop: Pop the last element from the list.\n",
        "Reverse: Reverse the list.\n",
        "\"\"\"\n",
        "list = [1, 4, 9, 4, 1]\n",
        "\n",
        "list.insert(3, 9)\n",
        "print(\"After Inserting 4 at Index 2 in List:\\n\", list)\n",
        "\n",
        "list.remove(4)\n",
        "print(\"After removing 1st occurence of 4 from List:\\n\", list)\n",
        "\n",
        "list.append(5)\n",
        "print(\"After appending 5 to List:\\n\", list)\n",
        "\n",
        "list.sort()\n",
        "print(\"After sorting List:\\n\", list)\n",
        "\n",
        "list.pop()\n",
        "print(\"After popping last element from List:\\n\", list)\n",
        "\n",
        "list.reverse()\n",
        "print(\"After reversing List:\\n\", list)"
      ]
    },
    {
      "cell_type": "code",
      "source": [
        "#Calculator program in Python\n",
        "\n",
        "def display(oper, result):\n",
        "  print(\"\\n{0} {1} {2} = {3}\".format(num1,oper,num2,result))\n",
        "\n",
        "num1=int(input(\"Enter first number: \"))\n",
        "num2=int(input(\"Enter second number: \"))\n",
        "\n",
        "print(\" 1. Add\\n 2. Subtract\\n 3. Multiply\\n 4. Divide\")\n",
        "operation=int(input(\"Choose a operation: \"))\n",
        "\n",
        "if operation==1:\n",
        "  display('+',num1+num2)\n",
        "elif operation==2:\n",
        "  display('-',num1-num2)\n",
        "elif operation==3:\n",
        "  display('*',num1*num2)\n",
        "elif operation==4:\n",
        "  display('/',num1/num2)\n",
        "else:\n",
        "  print(\"Invalid Operation, Try Again!!\")"
      ],
      "metadata": {
        "colab": {
          "base_uri": "https://localhost:8080/"
        },
        "id": "v3QQ8GA780dq",
        "outputId": "0b93c2a4-6193-4a5e-f0f6-d7e9abd10c61"
      },
      "execution_count": null,
      "outputs": [
        {
          "output_type": "stream",
          "name": "stdout",
          "text": [
            "Enter first number: 34\n",
            "Enter second number: 45\n",
            " 1. Add\n",
            " 2. Subtract\n",
            " 3. Multiply\n",
            " 4. Divide\n",
            "Choose a operation: 3\n",
            "\n",
            "34 * 45 = 1530\n"
          ]
        }
      ]
    },
    {
      "cell_type": "code",
      "source": [
        "#Concatenate, Reverse and Slice a String\n",
        "\n",
        "string1 = input(\"Enter first string : \")\n",
        "string2 = input(\"Enter second string : \")\n",
        "\n",
        "result = string1 + string2\n",
        "print(\"Concatenated String : \" + result)\n",
        "\n",
        "print(\"Reversed String : \" + result[::-1])\n",
        "\n",
        "print(\"Slicing from 0th index till 5th index: \" + result[0:6])"
      ],
      "metadata": {
        "colab": {
          "base_uri": "https://localhost:8080/"
        },
        "id": "YBfIrFxPKnPt",
        "outputId": "748f2a65-9424-4acd-9755-85cce8127446"
      },
      "execution_count": null,
      "outputs": [
        {
          "output_type": "stream",
          "name": "stdout",
          "text": [
            "Enter first string : Hello\n",
            "Enter second string :  Venkatesh\n",
            "Concatenated String : Hello Venkatesh\n",
            "Reversed String : hsetakneV olleH\n",
            "Slicing from 0th index till 5th index: Hello \n"
          ]
        }
      ]
    },
    {
      "cell_type": "markdown",
      "source": [
        "\n",
        "```\n",
        "Q. Why is Python a popular programming language?\n",
        "A.\n",
        "  -> Beginner Friendly: It is easier for beginners to learn due to its understandable english-like syntax.\n",
        "  -> Libraries and Frameworks: Python has many pre-defined components in libraries and frameworks which makes easy to code.\n",
        "  -> Versatile: Python can be used for almost anything like Web Development, Machine Learning, Artificial Intelligence, \n",
        "  Data Science, etc.,\n",
        "\n",
        "------------------------------------------------------------------\n",
        "Q. What are the other Frameworks that can be used with python?\n",
        "A.\n",
        "  -> Django\n",
        "  -> Flask\n",
        "  -> CherryPy\n",
        "  -> Pyramid\n",
        "  -> Web2py\n",
        "\n",
        "------------------------------------------------------------------\n",
        "Q. Full form of WSGI?\n",
        "A.\n",
        "  -> WSGI - Web Server Gateway Interface\n",
        "------------------------------------------------------------------\n",
        "```"
      ],
      "metadata": {
        "id": "oweZBdewOU6O"
      }
    }
  ]
}