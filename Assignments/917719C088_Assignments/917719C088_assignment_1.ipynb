{
  "cells": [
    {
      "cell_type": "code",
      "execution_count": null,
      "metadata": {
        "colab": {
          "base_uri": "https://localhost:8080/",
          "height": 122
        },
        "id": "R5y85WiHOvAr",
        "outputId": "70e8fcb8-7790-47f1-c2cb-0c36d92916be"
      },
      "outputs": [
        {
          "output_type": "execute_result",
          "data": {
            "text/plain": [
              "'\\nModule 3 : Python Assignment\\n\\nConsider a list (list = []). You can perform the following commands:\\ninsert i e: Insert integer  at position .\\nprint: Print the list.\\nremove e: Delete the first occurrence of integer .\\nappend e: Insert integer  at the end of the list.\\nsort: Sort the list.\\npop: Pop the last element from the list.\\nreverse: Reverse the list.\\nInitialize your list and read in the value of  followed by  lines of commands where each command will be of the  types listed above. Iterate through each command in order and perform the corresponding operation on your list.\\n \\nWrite a Calculator program in Python?\\nWrite a program to concatenate, reverse and slice a string?\\nWhy is Python a popular programming language?\\nWhat are the other Frameworks that can be used with python?\\nFull form of WSGI?\\n'"
            ],
            "application/vnd.google.colaboratory.intrinsic+json": {
              "type": "string"
            }
          },
          "metadata": {},
          "execution_count": 1
        }
      ],
      "source": [
        "'''\n",
        "Module 3 : Python Assignment\n",
        "\n",
        "Consider a list (list = []). You can perform the following commands:\n",
        "insert i e: Insert integer  at position .\n",
        "print: Print the list.\n",
        "remove e: Delete the first occurrence of integer .\n",
        "append e: Insert integer  at the end of the list.\n",
        "sort: Sort the list.\n",
        "pop: Pop the last element from the list.\n",
        "reverse: Reverse the list.\n",
        "Initialize your list and read in the value of  followed by  lines of commands where each command will be of the  types listed above. Iterate through each command in order and perform the corresponding operation on your list.\n",
        " \n",
        "Write a Calculator program in Python?\n",
        "Write a program to concatenate, reverse and slice a string?\n",
        "Why is Python a popular programming language?\n",
        "What are the other Frameworks that can be used with python?\n",
        "Full form of WSGI?\n",
        "'''"
      ]
    },
    {
      "cell_type": "code",
      "source": [
        "class MyList:\n",
        "  arr = []\n",
        "\n",
        "  def insertAtPos(self, pos, val):\n",
        "    self.arr.insert(pos, val)\n",
        "\n",
        "  def print(self):\n",
        "    print(self.arr)\n",
        "\n",
        "  def delete(self, val):\n",
        "    self.arr.remove(val)\n",
        "\n",
        "  def insertAtEnd(self, val):\n",
        "    self.arr.append(val)\n",
        "\n",
        "  def sort(self):\n",
        "    self.arr.sort()\n",
        "\n",
        "  def pop(self):\n",
        "    self.arr.pop()\n",
        "\n",
        "  def  reverse(self):\n",
        "    self.arr = self.arr[:: -1]\n"
      ],
      "metadata": {
        "id": "uTfk3WX2ruHo"
      },
      "execution_count": null,
      "outputs": []
    },
    {
      "cell_type": "code",
      "source": [
        "mylist = MyList()\n",
        "choice=\"\"\n",
        "while choice != \"exit\":\n",
        "  choice = input(\"Select operations from insert at pos, print, delete, insert at end, sort, pop, reverse, exit :\")\n",
        "  if choice == 'insert at pos':\n",
        "    val = int(input(\"enter a number\"))\n",
        "    pos = int(input(\"enter position\"))\n",
        "    mylist.insertAtPos(pos, val)\n",
        "\n",
        "  elif choice == 'print':\n",
        "    mylist.print()\n",
        "\n",
        "  elif choice == 'delete':\n",
        "    val = int(input(\"enter value to be deleted\"))\n",
        "    mylist.delete(val)\n",
        "\n",
        "  elif choice == 'insert at end':\n",
        "    val = int(input(\"enter value to inserted\"))\n",
        "    mylist.insertAtEnd(val)\n",
        "\n",
        "  elif choice == 'sort':\n",
        "    mylist.sort()\n",
        "\n",
        "  elif choice == 'pop':\n",
        "    mylist.pop()\n",
        "\n",
        "  elif choice == 'reverse':\n",
        "    mylist.reverse()\n",
        "\n",
        "  elif choice == 'exit':\n",
        "    choice = 'exit'"
      ],
      "metadata": {
        "id": "1LdhauaWz00u",
        "colab": {
          "base_uri": "https://localhost:8080/"
        },
        "outputId": "4a06c9f6-6e13-4c21-a1d5-488d3ef1b148"
      },
      "execution_count": null,
      "outputs": [
        {
          "name": "stdout",
          "output_type": "stream",
          "text": [
            "Select operations from insert at pos, print, delete, insert at end, sort, pop, reverse, exit :insert at end\n",
            "enter value to inserted10\n",
            "Select operations from insert at pos, print, delete, insert at end, sort, pop, reverse, exit :insert at end\n",
            "enter value to inserted5\n",
            "Select operations from insert at pos, print, delete, insert at end, sort, pop, reverse, exit :print\n",
            "[5, 10, 10, 5]\n",
            "Select operations from insert at pos, print, delete, insert at end, sort, pop, reverse, exit :insert at end\n",
            "enter value to inserted15\n",
            "Select operations from insert at pos, print, delete, insert at end, sort, pop, reverse, exit :print\n",
            "[5, 10, 10, 5, 15]\n",
            "Select operations from insert at pos, print, delete, insert at end, sort, pop, reverse, exit :delete\n",
            "enter value to be deleted5\n",
            "Select operations from insert at pos, print, delete, insert at end, sort, pop, reverse, exit :print\n",
            "[10, 10, 5, 15]\n",
            "Select operations from insert at pos, print, delete, insert at end, sort, pop, reverse, exit :pop\n",
            "Select operations from insert at pos, print, delete, insert at end, sort, pop, reverse, exit :print\n",
            "[10, 10, 5]\n",
            "Select operations from insert at pos, print, delete, insert at end, sort, pop, reverse, exit :sort\n",
            "Select operations from insert at pos, print, delete, insert at end, sort, pop, reverse, exit :print\n",
            "[5, 10, 10]\n",
            "Select operations from insert at pos, print, delete, insert at end, sort, pop, reverse, exit :reverse\n",
            "Select operations from insert at pos, print, delete, insert at end, sort, pop, reverse, exit :print\n",
            "[10, 10, 5]\n",
            "Select operations from insert at pos, print, delete, insert at end, sort, pop, reverse, exit :exit\n"
          ]
        }
      ]
    },
    {
      "cell_type": "code",
      "execution_count": null,
      "metadata": {
        "id": "bswEpxn3Q94w"
      },
      "outputs": [],
      "source": [
        "class calculator:\n",
        "  total = 0\n",
        "  def add(self, x):\n",
        "    self.total += x\n",
        "\n",
        "  def sub(self, x):\n",
        "    self.total -= x\n",
        "\n",
        "  def mul(self, x):\n",
        "    self.total *= x\n",
        "\n",
        "  def div(self, x):\n",
        "    if x == 0:\n",
        "      print(\"Can't divide by 0\")\n",
        "      return\n",
        "    self.total /= x\n",
        "\n",
        "  def result(self):\n",
        "    print(self.total)"
      ]
    },
    {
      "cell_type": "code",
      "execution_count": null,
      "metadata": {
        "colab": {
          "base_uri": "https://localhost:8080/"
        },
        "id": "FFM2UXGASP4Y",
        "outputId": "e9b88c9c-2761-427f-900e-aa3898973b17"
      },
      "outputs": [
        {
          "name": "stdout",
          "output_type": "stream",
          "text": [
            "Select operations form add, sub, mul, div, result, exit :add\n",
            "Enter a number5\n",
            "Select operations form add, sub, mul, div, result, exit :mul\n",
            "Enter a number4\n",
            "Select operations form add, sub, mul, div, result, exit :div\n",
            "Enter a number2\n",
            "Select operations form add, sub, mul, div, result, exit :result\n",
            "10.0\n",
            "Select operations form add, sub, mul, div, result, exit :add\n",
            "Enter a number2\n",
            "Select operations form add, sub, mul, div, result, exit :result\n",
            "12.0\n",
            "Select operations form add, sub, mul, div, result, exit :exit\n"
          ]
        }
      ],
      "source": [
        "choice=\"\"\n",
        "calc = calculator()\n",
        "while choice != \"exit\":\n",
        "  choice = input(\"Select operations from add, sub, mul, div, result, exit :\")\n",
        "  if choice == 'add':\n",
        "    num = int(input(\"Enter a number\"))\n",
        "    calc.add(num)\n",
        "  elif choice == 'sub':\n",
        "    num = int(input('Enter a number'))\n",
        "    calc.sub(num)\n",
        "  elif choice == 'mul':\n",
        "    num = int(input(\"Enter a number\"))\n",
        "    calc.mul(num)\n",
        "  elif choice == 'div':\n",
        "    num = int(input(\"Enter a number\"))\n",
        "    calc.div(num)\n",
        "  elif choice == 'result':\n",
        "    calc.result()\n",
        "  else:\n",
        "    choice='exit'"
      ]
    },
    {
      "cell_type": "code",
      "execution_count": null,
      "metadata": {
        "id": "rxcZTsyMSbts",
        "colab": {
          "base_uri": "https://localhost:8080/"
        },
        "outputId": "0eb0fb79-7965-42d6-8186-ffb86a073141"
      },
      "outputs": [
        {
          "output_type": "stream",
          "name": "stdout",
          "text": [
            "Hello Sethu\n"
          ]
        }
      ],
      "source": [
        "word1 = \"Hello\"\n",
        "word2 = \"Sethu\"\n",
        "sentence = word1 + \" \" + word2\n",
        "print(sentence)"
      ]
    },
    {
      "cell_type": "code",
      "source": [
        "reversed_sentence = sentence[::-1]\n",
        "print(reversed_sentence)"
      ],
      "metadata": {
        "colab": {
          "base_uri": "https://localhost:8080/"
        },
        "id": "gLmfvbs2qXtv",
        "outputId": "5f97a13d-8714-4bfb-eb04-75560b566c69"
      },
      "execution_count": null,
      "outputs": [
        {
          "output_type": "stream",
          "name": "stdout",
          "text": [
            "uhteS olleH\n"
          ]
        }
      ]
    },
    {
      "cell_type": "code",
      "source": [
        "print(sentence[0: -2])"
      ],
      "metadata": {
        "colab": {
          "base_uri": "https://localhost:8080/"
        },
        "id": "86c3CaAhq5ov",
        "outputId": "8e866f5e-c79c-4785-c6a5-98229d238a41"
      },
      "execution_count": null,
      "outputs": [
        {
          "output_type": "stream",
          "name": "stdout",
          "text": [
            "Hello Set\n"
          ]
        }
      ]
    },
    {
      "cell_type": "markdown",
      "source": [
        "Why is Python a popular programming language?\n",
        "It uses a simplified syntax with an emphasis on natural language, for a much easier learning curve for beginners. And, because Python is free to use and is supported by an extremely large ecosystem of libraries and packages, it's often the first-choice language for new developers."
      ],
      "metadata": {
        "id": "7--6-5xCvil1"
      }
    },
    {
      "cell_type": "markdown",
      "source": [
        "What are the other Frameworks that can be used with python?\n",
        "Frameworks - Flask, Django, Pyramid, TurboGears, Web2py, CherryPy"
      ],
      "metadata": {
        "id": "aEKKFM7_vmdW"
      }
    },
    {
      "cell_type": "markdown",
      "source": [
        "Full form of WSGI?\n",
        "WSGI - Web Server Gateway Interface"
      ],
      "metadata": {
        "id": "CdkmOv6ovpWl"
      }
    }
  ],
  "metadata": {
    "colab": {
      "provenance": [],
      "collapsed_sections": []
    },
    "kernelspec": {
      "display_name": "Python 3",
      "name": "python3"
    },
    "language_info": {
      "name": "python"
    }
  },
  "nbformat": 4,
  "nbformat_minor": 0
}